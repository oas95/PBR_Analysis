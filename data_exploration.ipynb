{
 "cells": [
  {
   "cell_type": "code",
   "execution_count": 43,
   "metadata": {},
   "outputs": [],
   "source": [
    "import pandas as pd \n",
    "import numpy as np\n",
    "import matplotlib.pyplot as plt\n",
    "import panel as pn\n",
    "pn.extension('tabulator')\n",
    "\n",
    "import hvplot.pandas"
   ]
  },
  {
   "cell_type": "code",
   "execution_count": 44,
   "metadata": {},
   "outputs": [],
   "source": [
    "stats_df = pd.read_csv('../PBR_Analytics/Resources/BullRiders.csv')"
   ]
  },
  {
   "cell_type": "code",
   "execution_count": 45,
   "metadata": {},
   "outputs": [
    {
     "data": {
      "text/html": [
       "<div>\n",
       "<style scoped>\n",
       "    .dataframe tbody tr th:only-of-type {\n",
       "        vertical-align: middle;\n",
       "    }\n",
       "\n",
       "    .dataframe tbody tr th {\n",
       "        vertical-align: top;\n",
       "    }\n",
       "\n",
       "    .dataframe thead th {\n",
       "        text-align: right;\n",
       "    }\n",
       "</style>\n",
       "<table border=\"1\" class=\"dataframe\">\n",
       "  <thead>\n",
       "    <tr style=\"text-align: right;\">\n",
       "      <th></th>\n",
       "      <th>Rider</th>\n",
       "      <th>PBRrank</th>\n",
       "      <th>YearBorn</th>\n",
       "      <th>Height</th>\n",
       "      <th>Weight</th>\n",
       "      <th>YearsPro</th>\n",
       "      <th>Season</th>\n",
       "      <th>Events</th>\n",
       "      <th>BuckOuts</th>\n",
       "      <th>Rides</th>\n",
       "      <th>CupPoints</th>\n",
       "      <th>Place</th>\n",
       "      <th>RidePer</th>\n",
       "      <th>Wins</th>\n",
       "      <th>Top5</th>\n",
       "      <th>Top10</th>\n",
       "      <th>FinalPoints</th>\n",
       "      <th>Earnings</th>\n",
       "    </tr>\n",
       "  </thead>\n",
       "  <tbody>\n",
       "    <tr>\n",
       "      <th>0</th>\n",
       "      <td>Silvano Alves</td>\n",
       "      <td>1</td>\n",
       "      <td>1987</td>\n",
       "      <td>67</td>\n",
       "      <td>150</td>\n",
       "      <td>5</td>\n",
       "      <td>2012</td>\n",
       "      <td>29</td>\n",
       "      <td>103</td>\n",
       "      <td>62</td>\n",
       "      <td>12201.75</td>\n",
       "      <td>1</td>\n",
       "      <td>0.60</td>\n",
       "      <td>2</td>\n",
       "      <td>8</td>\n",
       "      <td>18</td>\n",
       "      <td>1648.00</td>\n",
       "      <td>1464475.61</td>\n",
       "    </tr>\n",
       "    <tr>\n",
       "      <th>1</th>\n",
       "      <td>Marco Eguchi</td>\n",
       "      <td>2</td>\n",
       "      <td>1989</td>\n",
       "      <td>67</td>\n",
       "      <td>135</td>\n",
       "      <td>5</td>\n",
       "      <td>2012</td>\n",
       "      <td>29</td>\n",
       "      <td>84</td>\n",
       "      <td>39</td>\n",
       "      <td>7699.25</td>\n",
       "      <td>9</td>\n",
       "      <td>0.46</td>\n",
       "      <td>1</td>\n",
       "      <td>9</td>\n",
       "      <td>11</td>\n",
       "      <td>571.00</td>\n",
       "      <td>226255.50</td>\n",
       "    </tr>\n",
       "    <tr>\n",
       "      <th>2</th>\n",
       "      <td>Cody Nance</td>\n",
       "      <td>3</td>\n",
       "      <td>1987</td>\n",
       "      <td>68</td>\n",
       "      <td>162</td>\n",
       "      <td>7</td>\n",
       "      <td>2012</td>\n",
       "      <td>28</td>\n",
       "      <td>76</td>\n",
       "      <td>29</td>\n",
       "      <td>5068.25</td>\n",
       "      <td>16</td>\n",
       "      <td>0.38</td>\n",
       "      <td>1</td>\n",
       "      <td>4</td>\n",
       "      <td>7</td>\n",
       "      <td>322.00</td>\n",
       "      <td>131580.54</td>\n",
       "    </tr>\n",
       "    <tr>\n",
       "      <th>3</th>\n",
       "      <td>Shane Proctor</td>\n",
       "      <td>5</td>\n",
       "      <td>1985</td>\n",
       "      <td>68</td>\n",
       "      <td>165</td>\n",
       "      <td>8</td>\n",
       "      <td>2012</td>\n",
       "      <td>13</td>\n",
       "      <td>32</td>\n",
       "      <td>8</td>\n",
       "      <td>1387.50</td>\n",
       "      <td>35</td>\n",
       "      <td>0.25</td>\n",
       "      <td>0</td>\n",
       "      <td>0</td>\n",
       "      <td>3</td>\n",
       "      <td>0.00</td>\n",
       "      <td>52443.96</td>\n",
       "    </tr>\n",
       "    <tr>\n",
       "      <th>4</th>\n",
       "      <td>Fabian Vieria</td>\n",
       "      <td>7</td>\n",
       "      <td>1982</td>\n",
       "      <td>68</td>\n",
       "      <td>175</td>\n",
       "      <td>7</td>\n",
       "      <td>2012</td>\n",
       "      <td>23</td>\n",
       "      <td>70</td>\n",
       "      <td>38</td>\n",
       "      <td>7677.25</td>\n",
       "      <td>10</td>\n",
       "      <td>0.54</td>\n",
       "      <td>2</td>\n",
       "      <td>5</td>\n",
       "      <td>11</td>\n",
       "      <td>171.75</td>\n",
       "      <td>191399.08</td>\n",
       "    </tr>\n",
       "  </tbody>\n",
       "</table>\n",
       "</div>"
      ],
      "text/plain": [
       "           Rider  PBRrank  YearBorn  Height  Weight  YearsPro  Season  Events  \\\n",
       "0  Silvano Alves        1      1987      67     150         5    2012      29   \n",
       "1   Marco Eguchi        2      1989      67     135         5    2012      29   \n",
       "2     Cody Nance        3      1987      68     162         7    2012      28   \n",
       "3  Shane Proctor        5      1985      68     165         8    2012      13   \n",
       "4  Fabian Vieria        7      1982      68     175         7    2012      23   \n",
       "\n",
       "   BuckOuts  Rides  CupPoints  Place  RidePer  Wins  Top5  Top10  FinalPoints  \\\n",
       "0       103     62   12201.75      1     0.60     2     8     18      1648.00   \n",
       "1        84     39    7699.25      9     0.46     1     9     11       571.00   \n",
       "2        76     29    5068.25     16     0.38     1     4      7       322.00   \n",
       "3        32      8    1387.50     35     0.25     0     0      3         0.00   \n",
       "4        70     38    7677.25     10     0.54     2     5     11       171.75   \n",
       "\n",
       "     Earnings  \n",
       "0  1464475.61  \n",
       "1   226255.50  \n",
       "2   131580.54  \n",
       "3    52443.96  \n",
       "4   191399.08  "
      ]
     },
     "execution_count": 45,
     "metadata": {},
     "output_type": "execute_result"
    }
   ],
   "source": [
    "stats_df.head()"
   ]
  },
  {
   "cell_type": "code",
   "execution_count": 46,
   "metadata": {},
   "outputs": [
    {
     "data": {
      "text/plain": [
       "Rider           object\n",
       "PBRrank          int64\n",
       "YearBorn         int64\n",
       "Height           int64\n",
       "Weight           int64\n",
       "YearsPro         int64\n",
       "Season           int64\n",
       "Events           int64\n",
       "BuckOuts         int64\n",
       "Rides            int64\n",
       "CupPoints      float64\n",
       "Place            int64\n",
       "RidePer        float64\n",
       "Wins             int64\n",
       "Top5             int64\n",
       "Top10            int64\n",
       "FinalPoints    float64\n",
       "Earnings       float64\n",
       "dtype: object"
      ]
     },
     "execution_count": 46,
     "metadata": {},
     "output_type": "execute_result"
    }
   ],
   "source": [
    "#Previewing dtypes for potential errors\n",
    "stats_df.dtypes"
   ]
  },
  {
   "attachments": {},
   "cell_type": "markdown",
   "metadata": {},
   "source": [
    "## Pre-Processing Data"
   ]
  },
  {
   "cell_type": "code",
   "execution_count": 47,
   "metadata": {},
   "outputs": [],
   "source": [
    "#Filling NAs with 0s\n",
    "statscl_df = stats_df.fillna(0)\n",
    "\n",
    "#Creatig Value scores for Earnings and Final Points and adding them to the df\n",
    "#value score by Final Points\n",
    "value_score =(statscl_df['Rides'] - statscl_df['Wins'])/statscl_df['FinalPoints']\n",
    "statscl_df['Value_Score'] = value_score\n",
    "#Value score by Earnings\n",
    "value_score1 =((statscl_df['Rides'] - statscl_df['Wins'])/statscl_df['Earnings'])*1000\n",
    "statscl_df['Value_ScoreE'] = value_score1"
   ]
  },
  {
   "cell_type": "code",
   "execution_count": 48,
   "metadata": {},
   "outputs": [
    {
     "data": {
      "text/html": [
       "<div>\n",
       "<style scoped>\n",
       "    .dataframe tbody tr th:only-of-type {\n",
       "        vertical-align: middle;\n",
       "    }\n",
       "\n",
       "    .dataframe tbody tr th {\n",
       "        vertical-align: top;\n",
       "    }\n",
       "\n",
       "    .dataframe thead th {\n",
       "        text-align: right;\n",
       "    }\n",
       "</style>\n",
       "<table border=\"1\" class=\"dataframe\">\n",
       "  <thead>\n",
       "    <tr style=\"text-align: right;\">\n",
       "      <th></th>\n",
       "      <th>Rider</th>\n",
       "      <th>PBRrank</th>\n",
       "      <th>YearBorn</th>\n",
       "      <th>Height</th>\n",
       "      <th>Weight</th>\n",
       "      <th>YearsPro</th>\n",
       "      <th>Season</th>\n",
       "      <th>Events</th>\n",
       "      <th>BuckOuts</th>\n",
       "      <th>Rides</th>\n",
       "      <th>CupPoints</th>\n",
       "      <th>Place</th>\n",
       "      <th>RidePer</th>\n",
       "      <th>Wins</th>\n",
       "      <th>Top5</th>\n",
       "      <th>Top10</th>\n",
       "      <th>FinalPoints</th>\n",
       "      <th>Earnings</th>\n",
       "      <th>Value_Score</th>\n",
       "      <th>Value_ScoreE</th>\n",
       "    </tr>\n",
       "  </thead>\n",
       "  <tbody>\n",
       "    <tr>\n",
       "      <th>0</th>\n",
       "      <td>Silvano Alves</td>\n",
       "      <td>1</td>\n",
       "      <td>1987</td>\n",
       "      <td>67</td>\n",
       "      <td>150</td>\n",
       "      <td>5</td>\n",
       "      <td>2012</td>\n",
       "      <td>29</td>\n",
       "      <td>103</td>\n",
       "      <td>62</td>\n",
       "      <td>12201.75</td>\n",
       "      <td>1</td>\n",
       "      <td>0.60</td>\n",
       "      <td>2</td>\n",
       "      <td>8</td>\n",
       "      <td>18</td>\n",
       "      <td>1648.00</td>\n",
       "      <td>1464475.61</td>\n",
       "      <td>0.036408</td>\n",
       "      <td>0.040970</td>\n",
       "    </tr>\n",
       "    <tr>\n",
       "      <th>1</th>\n",
       "      <td>Marco Eguchi</td>\n",
       "      <td>2</td>\n",
       "      <td>1989</td>\n",
       "      <td>67</td>\n",
       "      <td>135</td>\n",
       "      <td>5</td>\n",
       "      <td>2012</td>\n",
       "      <td>29</td>\n",
       "      <td>84</td>\n",
       "      <td>39</td>\n",
       "      <td>7699.25</td>\n",
       "      <td>9</td>\n",
       "      <td>0.46</td>\n",
       "      <td>1</td>\n",
       "      <td>9</td>\n",
       "      <td>11</td>\n",
       "      <td>571.00</td>\n",
       "      <td>226255.50</td>\n",
       "      <td>0.066550</td>\n",
       "      <td>0.167952</td>\n",
       "    </tr>\n",
       "    <tr>\n",
       "      <th>2</th>\n",
       "      <td>Cody Nance</td>\n",
       "      <td>3</td>\n",
       "      <td>1987</td>\n",
       "      <td>68</td>\n",
       "      <td>162</td>\n",
       "      <td>7</td>\n",
       "      <td>2012</td>\n",
       "      <td>28</td>\n",
       "      <td>76</td>\n",
       "      <td>29</td>\n",
       "      <td>5068.25</td>\n",
       "      <td>16</td>\n",
       "      <td>0.38</td>\n",
       "      <td>1</td>\n",
       "      <td>4</td>\n",
       "      <td>7</td>\n",
       "      <td>322.00</td>\n",
       "      <td>131580.54</td>\n",
       "      <td>0.086957</td>\n",
       "      <td>0.212797</td>\n",
       "    </tr>\n",
       "    <tr>\n",
       "      <th>3</th>\n",
       "      <td>Shane Proctor</td>\n",
       "      <td>5</td>\n",
       "      <td>1985</td>\n",
       "      <td>68</td>\n",
       "      <td>165</td>\n",
       "      <td>8</td>\n",
       "      <td>2012</td>\n",
       "      <td>13</td>\n",
       "      <td>32</td>\n",
       "      <td>8</td>\n",
       "      <td>1387.50</td>\n",
       "      <td>35</td>\n",
       "      <td>0.25</td>\n",
       "      <td>0</td>\n",
       "      <td>0</td>\n",
       "      <td>3</td>\n",
       "      <td>0.00</td>\n",
       "      <td>52443.96</td>\n",
       "      <td>inf</td>\n",
       "      <td>0.152544</td>\n",
       "    </tr>\n",
       "    <tr>\n",
       "      <th>4</th>\n",
       "      <td>Fabian Vieria</td>\n",
       "      <td>7</td>\n",
       "      <td>1982</td>\n",
       "      <td>68</td>\n",
       "      <td>175</td>\n",
       "      <td>7</td>\n",
       "      <td>2012</td>\n",
       "      <td>23</td>\n",
       "      <td>70</td>\n",
       "      <td>38</td>\n",
       "      <td>7677.25</td>\n",
       "      <td>10</td>\n",
       "      <td>0.54</td>\n",
       "      <td>2</td>\n",
       "      <td>5</td>\n",
       "      <td>11</td>\n",
       "      <td>171.75</td>\n",
       "      <td>191399.08</td>\n",
       "      <td>0.209607</td>\n",
       "      <td>0.188089</td>\n",
       "    </tr>\n",
       "    <tr>\n",
       "      <th>5</th>\n",
       "      <td>J.B. Mauney</td>\n",
       "      <td>8</td>\n",
       "      <td>1987</td>\n",
       "      <td>70</td>\n",
       "      <td>140</td>\n",
       "      <td>8</td>\n",
       "      <td>2012</td>\n",
       "      <td>26</td>\n",
       "      <td>82</td>\n",
       "      <td>40</td>\n",
       "      <td>9273.25</td>\n",
       "      <td>8</td>\n",
       "      <td>0.49</td>\n",
       "      <td>3</td>\n",
       "      <td>8</td>\n",
       "      <td>13</td>\n",
       "      <td>287.00</td>\n",
       "      <td>313340.27</td>\n",
       "      <td>0.128920</td>\n",
       "      <td>0.118082</td>\n",
       "    </tr>\n",
       "    <tr>\n",
       "      <th>6</th>\n",
       "      <td>Aaron Roy</td>\n",
       "      <td>9</td>\n",
       "      <td>1987</td>\n",
       "      <td>71</td>\n",
       "      <td>165</td>\n",
       "      <td>7</td>\n",
       "      <td>2012</td>\n",
       "      <td>28</td>\n",
       "      <td>71</td>\n",
       "      <td>22</td>\n",
       "      <td>3108.50</td>\n",
       "      <td>26</td>\n",
       "      <td>0.31</td>\n",
       "      <td>0</td>\n",
       "      <td>2</td>\n",
       "      <td>4</td>\n",
       "      <td>0.00</td>\n",
       "      <td>127554.50</td>\n",
       "      <td>inf</td>\n",
       "      <td>0.172475</td>\n",
       "    </tr>\n",
       "    <tr>\n",
       "      <th>7</th>\n",
       "      <td>Guilherme Marchi</td>\n",
       "      <td>10</td>\n",
       "      <td>1982</td>\n",
       "      <td>70</td>\n",
       "      <td>180</td>\n",
       "      <td>14</td>\n",
       "      <td>2012</td>\n",
       "      <td>29</td>\n",
       "      <td>87</td>\n",
       "      <td>50</td>\n",
       "      <td>11542.00</td>\n",
       "      <td>2</td>\n",
       "      <td>0.57</td>\n",
       "      <td>2</td>\n",
       "      <td>9</td>\n",
       "      <td>12</td>\n",
       "      <td>2519.75</td>\n",
       "      <td>331421.67</td>\n",
       "      <td>0.019050</td>\n",
       "      <td>0.144831</td>\n",
       "    </tr>\n",
       "    <tr>\n",
       "      <th>8</th>\n",
       "      <td>Mike Lee</td>\n",
       "      <td>11</td>\n",
       "      <td>1983</td>\n",
       "      <td>68</td>\n",
       "      <td>140</td>\n",
       "      <td>12</td>\n",
       "      <td>2012</td>\n",
       "      <td>20</td>\n",
       "      <td>64</td>\n",
       "      <td>33</td>\n",
       "      <td>6088.00</td>\n",
       "      <td>13</td>\n",
       "      <td>0.52</td>\n",
       "      <td>1</td>\n",
       "      <td>5</td>\n",
       "      <td>7</td>\n",
       "      <td>1011.75</td>\n",
       "      <td>147952.34</td>\n",
       "      <td>0.031628</td>\n",
       "      <td>0.216286</td>\n",
       "    </tr>\n",
       "    <tr>\n",
       "      <th>9</th>\n",
       "      <td>Chase Outlaw</td>\n",
       "      <td>12</td>\n",
       "      <td>1992</td>\n",
       "      <td>65</td>\n",
       "      <td>150</td>\n",
       "      <td>2</td>\n",
       "      <td>2012</td>\n",
       "      <td>23</td>\n",
       "      <td>64</td>\n",
       "      <td>21</td>\n",
       "      <td>4186.50</td>\n",
       "      <td>21</td>\n",
       "      <td>0.33</td>\n",
       "      <td>1</td>\n",
       "      <td>3</td>\n",
       "      <td>8</td>\n",
       "      <td>0.00</td>\n",
       "      <td>170203.48</td>\n",
       "      <td>inf</td>\n",
       "      <td>0.117506</td>\n",
       "    </tr>\n",
       "  </tbody>\n",
       "</table>\n",
       "</div>"
      ],
      "text/plain": [
       "              Rider  PBRrank  YearBorn  Height  Weight  YearsPro  Season  \\\n",
       "0     Silvano Alves        1      1987      67     150         5    2012   \n",
       "1      Marco Eguchi        2      1989      67     135         5    2012   \n",
       "2        Cody Nance        3      1987      68     162         7    2012   \n",
       "3     Shane Proctor        5      1985      68     165         8    2012   \n",
       "4     Fabian Vieria        7      1982      68     175         7    2012   \n",
       "5       J.B. Mauney        8      1987      70     140         8    2012   \n",
       "6         Aaron Roy        9      1987      71     165         7    2012   \n",
       "7  Guilherme Marchi       10      1982      70     180        14    2012   \n",
       "8          Mike Lee       11      1983      68     140        12    2012   \n",
       "9      Chase Outlaw       12      1992      65     150         2    2012   \n",
       "\n",
       "   Events  BuckOuts  Rides  CupPoints  Place  RidePer  Wins  Top5  Top10  \\\n",
       "0      29       103     62   12201.75      1     0.60     2     8     18   \n",
       "1      29        84     39    7699.25      9     0.46     1     9     11   \n",
       "2      28        76     29    5068.25     16     0.38     1     4      7   \n",
       "3      13        32      8    1387.50     35     0.25     0     0      3   \n",
       "4      23        70     38    7677.25     10     0.54     2     5     11   \n",
       "5      26        82     40    9273.25      8     0.49     3     8     13   \n",
       "6      28        71     22    3108.50     26     0.31     0     2      4   \n",
       "7      29        87     50   11542.00      2     0.57     2     9     12   \n",
       "8      20        64     33    6088.00     13     0.52     1     5      7   \n",
       "9      23        64     21    4186.50     21     0.33     1     3      8   \n",
       "\n",
       "   FinalPoints    Earnings  Value_Score  Value_ScoreE  \n",
       "0      1648.00  1464475.61     0.036408      0.040970  \n",
       "1       571.00   226255.50     0.066550      0.167952  \n",
       "2       322.00   131580.54     0.086957      0.212797  \n",
       "3         0.00    52443.96          inf      0.152544  \n",
       "4       171.75   191399.08     0.209607      0.188089  \n",
       "5       287.00   313340.27     0.128920      0.118082  \n",
       "6         0.00   127554.50          inf      0.172475  \n",
       "7      2519.75   331421.67     0.019050      0.144831  \n",
       "8      1011.75   147952.34     0.031628      0.216286  \n",
       "9         0.00   170203.48          inf      0.117506  "
      ]
     },
     "execution_count": 48,
     "metadata": {},
     "output_type": "execute_result"
    }
   ],
   "source": [
    "statscl_df.head(10)"
   ]
  },
  {
   "attachments": {},
   "cell_type": "markdown",
   "metadata": {},
   "source": [
    "# Creating Quick Interactive Table"
   ]
  },
  {
   "cell_type": "code",
   "execution_count": 49,
   "metadata": {},
   "outputs": [],
   "source": [
    "#Setting Up DataFrame Interactive Pipeline\n",
    "idf = stats_df.interactive()"
   ]
  },
  {
   "cell_type": "code",
   "execution_count": 50,
   "metadata": {},
   "outputs": [
    {
     "data": {
      "application/vnd.jupyter.widget-view+json": {
       "model_id": "d0a030da021442abb185d8facf8d6141",
       "version_major": 2,
       "version_minor": 0
      },
      "text/plain": [
       "BokehModel(combine_events=True, render_bundle={'docs_json': {'d59d8d60-2f62-4406-b3bf-cc6573998691': {'defs': …"
      ]
     },
     "metadata": {},
     "output_type": "display_data"
    },
    {
     "data": {
      "text/html": [
       "<div style=\"display: none\"></div>"
      ],
      "text/plain": [
       "IntSlider(end=1500000, name='Earnings Slider', step=10000)"
      ]
     },
     "execution_count": 50,
     "metadata": {},
     "output_type": "execute_result"
    }
   ],
   "source": [
    "#Adding Earnings Widget\n",
    "earnings_slider = pn.widgets.IntSlider(name='Earnings Slider', start = 0, end = 1500000, step=10000)\n",
    "earnings_slider"
   ]
  },
  {
   "cell_type": "code",
   "execution_count": 51,
   "metadata": {},
   "outputs": [],
   "source": [
    "#Radio buttons for Riders\n",
    "yaxis = pn.widgets.RadioButtonGroup(\n",
    "    name='Y axis', \n",
    "    options=['Earnings'],\n",
    "    button_type='success'\n",
    ")"
   ]
  },
  {
   "cell_type": "code",
   "execution_count": 52,
   "metadata": {},
   "outputs": [],
   "source": [
    "#creating riders list \n",
    "riders_list = statscl_df['Rider'].tolist()"
   ]
  },
  {
   "cell_type": "code",
   "execution_count": 53,
   "metadata": {},
   "outputs": [],
   "source": [
    "yaxis_pipeline = (\n",
    "    idf[\n",
    "        (idf.Earnings <= earnings_slider) &\n",
    "        (idf.Rider.isin(riders_list))\n",
    "    ]\n",
    "    .groupby(['Rider', 'FinalPoints'])[yaxis].mean()\n",
    "    .to_frame()\n",
    "    .reset_index()\n",
    "    .sort_values(by='Earnings', ascending=False)\n",
    "    .reset_index(drop=True)\n",
    ")"
   ]
  },
  {
   "cell_type": "code",
   "execution_count": 54,
   "metadata": {},
   "outputs": [
    {
     "data": {
      "application/vnd.jupyter.widget-view+json": {
       "model_id": "f74ba45c9ea24f54b95d39ff2dafd3a4",
       "version_major": 2,
       "version_minor": 0
      },
      "text/plain": [
       "BokehModel(combine_events=True, render_bundle={'docs_json': {'16f1635c-64d2-4279-96d4-76e7c4993fd7': {'defs': …"
      ]
     },
     "metadata": {},
     "output_type": "display_data"
    },
    {
     "data": {
      "text/html": [
       "<div style=\"display: none\"></div>"
      ],
      "text/plain": [
       "<hvplot.interactive.Interactive at 0x111d115dd08>"
      ]
     },
     "execution_count": 54,
     "metadata": {},
     "output_type": "execute_result"
    }
   ],
   "source": [
    "yaxis_pipeline"
   ]
  },
  {
   "cell_type": "code",
   "execution_count": 55,
   "metadata": {},
   "outputs": [
    {
     "data": {
      "text/plain": [
       "38"
      ]
     },
     "execution_count": 55,
     "metadata": {},
     "output_type": "execute_result"
    }
   ],
   "source": [
    "total_riders = len(stats_df.Rider.unique())\n",
    "total_riders"
   ]
  },
  {
   "cell_type": "code",
   "execution_count": 56,
   "metadata": {},
   "outputs": [],
   "source": [
    "#Sorting by Value Score\n",
    "valuescore_sort = statscl_df.sort_values('Value_Score', ascending=True)\n",
    "valuescore_Earn = statscl_df.sort_values('Value_ScoreE', ascending=True)"
   ]
  },
  {
   "cell_type": "code",
   "execution_count": 57,
   "metadata": {},
   "outputs": [
    {
     "data": {
      "application/vnd.holoviews_exec.v0+json": "",
      "text/html": [
       "<div id='1786'>\n",
       "  <div class=\"bk-root\" id=\"1e134551-cada-41e1-bf74-101a0ef7a00c\" data-root-id=\"1786\"></div>\n",
       "</div>\n",
       "<script type=\"application/javascript\">(function(root) {\n",
       "  function embed_document(root) {\n",
       "    var docs_json = {\"69efffef-d7c3-49c1-bf75-75a671308b73\":{\"defs\":[{\"extends\":null,\"module\":null,\"name\":\"ReactiveHTML1\",\"overrides\":[],\"properties\":[]},{\"extends\":null,\"module\":null,\"name\":\"FlexBox1\",\"overrides\":[],\"properties\":[{\"default\":\"flex-start\",\"kind\":null,\"name\":\"align_content\"},{\"default\":\"flex-start\",\"kind\":null,\"name\":\"align_items\"},{\"default\":\"row\",\"kind\":null,\"name\":\"flex_direction\"},{\"default\":\"wrap\",\"kind\":null,\"name\":\"flex_wrap\"},{\"default\":\"flex-start\",\"kind\":null,\"name\":\"justify_content\"}]},{\"extends\":null,\"module\":null,\"name\":\"GridStack1\",\"overrides\":[],\"properties\":[{\"default\":\"warn\",\"kind\":null,\"name\":\"mode\"},{\"default\":null,\"kind\":null,\"name\":\"ncols\"},{\"default\":null,\"kind\":null,\"name\":\"nrows\"},{\"default\":true,\"kind\":null,\"name\":\"allow_resize\"},{\"default\":true,\"kind\":null,\"name\":\"allow_drag\"},{\"default\":[],\"kind\":null,\"name\":\"state\"}]},{\"extends\":null,\"module\":null,\"name\":\"click1\",\"overrides\":[],\"properties\":[{\"default\":\"\",\"kind\":null,\"name\":\"terminal_output\"},{\"default\":\"\",\"kind\":null,\"name\":\"debug_name\"},{\"default\":0,\"kind\":null,\"name\":\"clears\"}]},{\"extends\":null,\"module\":null,\"name\":\"NotificationAreaBase1\",\"overrides\":[],\"properties\":[{\"default\":\"bottom-right\",\"kind\":null,\"name\":\"position\"},{\"default\":0,\"kind\":null,\"name\":\"_clear\"}]},{\"extends\":null,\"module\":null,\"name\":\"NotificationArea1\",\"overrides\":[],\"properties\":[{\"default\":[],\"kind\":null,\"name\":\"notifications\"},{\"default\":\"bottom-right\",\"kind\":null,\"name\":\"position\"},{\"default\":0,\"kind\":null,\"name\":\"_clear\"},{\"default\":[{\"background\":\"#ffc107\",\"icon\":{\"className\":\"fas fa-exclamation-triangle\",\"color\":\"white\",\"tagName\":\"i\"},\"type\":\"warning\"},{\"background\":\"#007bff\",\"icon\":{\"className\":\"fas fa-info-circle\",\"color\":\"white\",\"tagName\":\"i\"},\"type\":\"info\"}],\"kind\":null,\"name\":\"types\"}]},{\"extends\":null,\"module\":null,\"name\":\"Notification\",\"overrides\":[],\"properties\":[{\"default\":null,\"kind\":null,\"name\":\"background\"},{\"default\":3000,\"kind\":null,\"name\":\"duration\"},{\"default\":null,\"kind\":null,\"name\":\"icon\"},{\"default\":\"\",\"kind\":null,\"name\":\"message\"},{\"default\":null,\"kind\":null,\"name\":\"notification_type\"},{\"default\":false,\"kind\":null,\"name\":\"_destroyed\"}]},{\"extends\":null,\"module\":null,\"name\":\"TemplateActions1\",\"overrides\":[],\"properties\":[{\"default\":0,\"kind\":null,\"name\":\"open_modal\"},{\"default\":0,\"kind\":null,\"name\":\"close_modal\"}]},{\"extends\":null,\"module\":null,\"name\":\"MaterialTemplateActions1\",\"overrides\":[],\"properties\":[{\"default\":0,\"kind\":null,\"name\":\"open_modal\"},{\"default\":0,\"kind\":null,\"name\":\"close_modal\"}]}],\"roots\":{\"references\":[{\"attributes\":{},\"id\":\"1795\",\"type\":\"LinearScale\"},{\"attributes\":{\"active_drag\":{\"id\":\"1808\"},\"active_scroll\":{\"id\":\"1809\"},\"tools\":[{\"id\":\"1789\"},{\"id\":\"1807\"},{\"id\":\"1808\"},{\"id\":\"1809\"},{\"id\":\"1810\"},{\"id\":\"1811\"}]},\"id\":\"1813\",\"type\":\"Toolbar\"},{\"attributes\":{\"overlay\":{\"id\":\"1812\"}},\"id\":\"1810\",\"type\":\"BoxZoomTool\"},{\"attributes\":{\"axis_label\":\"Value_ScoreE\",\"coordinates\":null,\"formatter\":{\"id\":\"1836\"},\"group\":null,\"major_label_policy\":{\"id\":\"1837\"},\"ticker\":{\"id\":\"1800\"}},\"id\":\"1799\",\"type\":\"LinearAxis\"},{\"attributes\":{},\"id\":\"1834\",\"type\":\"AllLabels\"},{\"attributes\":{\"factors\":[\"Silvano Alves\",\"Marco Eguchi\",\"Cody Nance\",\"Shane Proctor\",\"Fabian Vieria\",\"J.B. Mauney\",\"Aaron Roy\",\"Guilherme Marchi\",\"Mike Lee\",\"Chase Outlaw\",\"Jordan Hupp\",\"Douglas Duncan\",\"Kody Lostroh\",\"Luke Snyder\",\"L.J. Jenkins\",\"Emilio Resende\",\"Ty Pozzobon\",\"Billy Ronbinson\",\"Brendon Clark\",\"Sean Willingham\",\"Brant Atwood\",\"Ben Jones\",\"Renato Nunes\",\"Stormy Wing\",\"Valdiron De Oliveira\",\"Reese Cates\",\"Robson Palermo\",\"Zack Brown\",\"Jared Farley\",\"Austin Meier\",\"Lachlan Richardson\",\"Kasey Hayes\",\"Markus Mariluch\",\"Jarrod Craig\",\"Harve Stewart\",\"Caleb Sanderson\",\"Cody Johnson\",\"Ryan McConnel\"],\"palette\":[\"#1f77b3\",\"#ff7e0e\",\"#2ba02b\",\"#d62628\",\"#9367bc\",\"#8c564b\",\"#e277c1\",\"#7e7e7e\",\"#bcbc21\",\"#16bdcf\",\"#3a0182\",\"#004201\",\"#0fffa8\",\"#5d003f\",\"#bcbcff\",\"#d8afa1\",\"#b80080\",\"#004d52\",\"#6b6400\",\"#7c0100\",\"#6026ff\",\"#ffff9a\",\"#564964\",\"#8cb893\",\"#93fbff\",\"#018267\",\"#90ff00\",\"#8200a0\",\"#ac8944\",\"#5b3400\",\"#ffbff2\",\"#ff6e75\",\"#798cff\",\"#dd00ff\",\"#505646\",\"#004489\",\"#ffbf60\",\"#ff018c\"]},\"id\":\"1820\",\"type\":\"CategoricalColorMapper\"},{\"attributes\":{\"bottom_units\":\"screen\",\"coordinates\":null,\"fill_alpha\":0.5,\"fill_color\":\"lightgrey\",\"group\":null,\"left_units\":\"screen\",\"level\":\"overlay\",\"line_alpha\":1.0,\"line_color\":\"black\",\"line_dash\":[4,4],\"line_width\":2,\"right_units\":\"screen\",\"syncable\":false,\"top_units\":\"screen\"},\"id\":\"1812\",\"type\":\"BoxAnnotation\"},{\"attributes\":{\"coordinates\":null,\"group\":null,\"text\":\"Value Score by Earnings vs. Earnings\",\"text_color\":\"black\",\"text_font_size\":\"12pt\"},\"id\":\"1791\",\"type\":\"Title\"},{\"attributes\":{\"fill_color\":{\"field\":\"color\",\"transform\":{\"id\":\"1820\"}},\"hatch_color\":{\"field\":\"color\",\"transform\":{\"id\":\"1820\"}},\"line_color\":{\"field\":\"color\",\"transform\":{\"id\":\"1820\"}},\"size\":{\"value\":5.477225575051661},\"x\":{\"field\":\"Value_ScoreE\"},\"y\":{\"field\":\"Earnings\"}},\"id\":\"1827\",\"type\":\"Scatter\"},{\"attributes\":{},\"id\":\"1804\",\"type\":\"BasicTicker\"},{\"attributes\":{\"source\":{\"id\":\"1821\"}},\"id\":\"1830\",\"type\":\"CDSView\"},{\"attributes\":{},\"id\":\"1808\",\"type\":\"PanTool\"},{\"attributes\":{},\"id\":\"1809\",\"type\":\"WheelZoomTool\"},{\"attributes\":{\"callback\":null,\"renderers\":[{\"id\":\"1829\"}],\"tags\":[\"hv_created\"],\"tooltips\":[[\"Value_ScoreE\",\"@{Value_ScoreE}\"],[\"Earnings\",\"@{Earnings}\"],[\"Rider\",\"@{Rider}\"]]},\"id\":\"1789\",\"type\":\"HoverTool\"},{\"attributes\":{},\"id\":\"1811\",\"type\":\"ResetTool\"},{\"attributes\":{\"label\":{\"field\":\"color\"},\"renderers\":[{\"id\":\"1829\"}]},\"id\":\"1842\",\"type\":\"LegendItem\"},{\"attributes\":{},\"id\":\"1797\",\"type\":\"LinearScale\"},{\"attributes\":{\"end\":0.559842675531628,\"reset_end\":0.559842675531628,\"reset_start\":0.0196467741033898,\"start\":0.0196467741033898,\"tags\":[[[\"Value_ScoreE\",\"Value_ScoreE\",null]]]},\"id\":\"1787\",\"type\":\"Range1d\"},{\"attributes\":{},\"id\":\"1807\",\"type\":\"SaveTool\"},{\"attributes\":{\"fill_color\":{\"field\":\"color\",\"transform\":{\"id\":\"1820\"}},\"hatch_color\":{\"field\":\"color\",\"transform\":{\"id\":\"1820\"}},\"line_color\":{\"field\":\"color\",\"transform\":{\"id\":\"1820\"}},\"size\":{\"value\":5.477225575051661},\"x\":{\"field\":\"Value_ScoreE\"},\"y\":{\"field\":\"Earnings\"}},\"id\":\"1824\",\"type\":\"Scatter\"},{\"attributes\":{\"fill_alpha\":{\"value\":0.2},\"fill_color\":{\"field\":\"color\",\"transform\":{\"id\":\"1820\"}},\"hatch_alpha\":{\"value\":0.2},\"hatch_color\":{\"field\":\"color\",\"transform\":{\"id\":\"1820\"}},\"line_alpha\":{\"value\":0.2},\"line_color\":{\"field\":\"color\",\"transform\":{\"id\":\"1820\"}},\"size\":{\"value\":5.477225575051661},\"x\":{\"field\":\"Value_ScoreE\"},\"y\":{\"field\":\"Earnings\"}},\"id\":\"1828\",\"type\":\"Scatter\"},{\"attributes\":{\"below\":[{\"id\":\"1799\"}],\"center\":[{\"id\":\"1802\"},{\"id\":\"1806\"},{\"id\":\"1841\"}],\"height\":300,\"left\":[{\"id\":\"1803\"}],\"margin\":[5,5,5,5],\"min_border_bottom\":10,\"min_border_left\":10,\"min_border_right\":10,\"min_border_top\":10,\"renderers\":[{\"id\":\"1829\"}],\"right\":[{\"id\":\"1841\"}],\"sizing_mode\":\"fixed\",\"title\":{\"id\":\"1791\"},\"toolbar\":{\"id\":\"1813\"},\"width\":700,\"x_range\":{\"id\":\"1787\"},\"x_scale\":{\"id\":\"1795\"},\"y_range\":{\"id\":\"1788\"},\"y_scale\":{\"id\":\"1797\"}},\"id\":\"1790\",\"subtype\":\"Figure\",\"type\":\"Plot\"},{\"attributes\":{\"fill_color\":{\"field\":\"color\",\"transform\":{\"id\":\"1820\"}},\"hatch_color\":{\"field\":\"color\",\"transform\":{\"id\":\"1820\"}},\"line_color\":{\"field\":\"color\",\"transform\":{\"id\":\"1820\"}},\"size\":{\"value\":5.477225575051661},\"x\":{\"field\":\"Value_ScoreE\"},\"y\":{\"field\":\"Earnings\"}},\"id\":\"1826\",\"type\":\"Scatter\"},{\"attributes\":{\"axis\":{\"id\":\"1799\"},\"coordinates\":null,\"grid_line_color\":null,\"group\":null,\"ticker\":null},\"id\":\"1802\",\"type\":\"Grid\"},{\"attributes\":{},\"id\":\"1838\",\"type\":\"UnionRenderers\"},{\"attributes\":{\"data\":{\"Earnings\":{\"__ndarray__\":\"w/UonJtYNkEAAAAAfJ4LQR+F61HkDwBBhetRuH6b6UA9CtejOF0HQUjhehTxHxNBAAAAACgk/0DhehSudjoUQYXrUbiCDwJBcT0K19vGBEF7FK5H5U/wQAAAAADwI/ZAAAAAADZYA0H2KFyP4HQJQXsUrkf9SQ1BUrgehbqREEH2KFyPMv35QPYoXI8qKOtACtejcPlI80C4HoXr0dfUQClcj8LlitVAmpmZmUFI/ED2KFyPrBcPQeF6FK4Dx/ZAj8L1KKR6CUEK16NwzVTbQGZmZmaeehxBSOF6FK4X3UApXI/CDdjsQNejcD3DBhNBXI/C9cD79UDsUbgeFW/cQOxRuB61IdxAZmZmZibj1kB7FK5H+W0CQc3MzMxAWfJA7FG4HnWQ9UDsUbge1cLVQA==\",\"dtype\":\"float64\",\"order\":\"little\",\"shape\":[38]},\"Rider\":[\"Silvano Alves\",\"Marco Eguchi\",\"Cody Nance\",\"Shane Proctor\",\"Fabian Vieria\",\"J.B. Mauney\",\"Aaron Roy\",\"Guilherme Marchi\",\"Mike Lee\",\"Chase Outlaw\",\"Jordan Hupp\",\"Douglas Duncan\",\"Kody Lostroh\",\"Luke Snyder\",\"L.J. Jenkins\",\"Emilio Resende\",\"Ty Pozzobon\",\"Billy Ronbinson\",\"Brendon Clark\",\"Sean Willingham\",\"Brant Atwood\",\"Ben Jones\",\"Renato Nunes\",\"Stormy Wing\",\"Valdiron De Oliveira\",\"Reese Cates\",\"Robson Palermo\",\"Zack Brown\",\"Jared Farley\",\"Austin Meier\",\"Lachlan Richardson\",\"Kasey Hayes\",\"Markus Mariluch\",\"Jarrod Craig\",\"Harve Stewart\",\"Caleb Sanderson\",\"Cody Johnson\",\"Ryan McConnel\"],\"Value_ScoreE\":{\"__ndarray__\":\"KFlkBw/6pD8IVLQgcX/FP7NNBS3yPMs/eLFj/Y2Gwz966jAxShPIP3EAZHqnOr4/IAFto6sTxj8EWaQlz4nCPyQkxFhBr8s/+GNvbuYUvj+JjZNWxRLVPwNVIgL0Z8k/w2d/SRTFwT9BwOAJ6mnCPwj8Y31bm8k/D33HRN2htj+l8vG+gdXQP2ocNxmFtsQ/SvTmYR7TwT/JQg6+a/zNP6y07WW5Nac/2o60km+6zD8ZyV1w/pfCP9j5V50nNdM/YERnaZDjzz+45eJU7HC7PyL98Utzua4/jilDZ8IvsT9HjSGrFqvFP+/979h/TMM/Mlumxu0OsT/5tIt66sXOP6i8OEKKN8Y/FTWpDndiwD+XLOiPJOTGP/frf1P+I9Y/AkPZxqz7rD9eoduEjDvhPw==\",\"dtype\":\"float64\",\"order\":\"little\",\"shape\":[38]},\"color\":[\"Silvano Alves\",\"Marco Eguchi\",\"Cody Nance\",\"Shane Proctor\",\"Fabian Vieria\",\"J.B. Mauney\",\"Aaron Roy\",\"Guilherme Marchi\",\"Mike Lee\",\"Chase Outlaw\",\"Jordan Hupp\",\"Douglas Duncan\",\"Kody Lostroh\",\"Luke Snyder\",\"L.J. Jenkins\",\"Emilio Resende\",\"Ty Pozzobon\",\"Billy Ronbinson\",\"Brendon Clark\",\"Sean Willingham\",\"Brant Atwood\",\"Ben Jones\",\"Renato Nunes\",\"Stormy Wing\",\"Valdiron De Oliveira\",\"Reese Cates\",\"Robson Palermo\",\"Zack Brown\",\"Jared Farley\",\"Austin Meier\",\"Lachlan Richardson\",\"Kasey Hayes\",\"Markus Mariluch\",\"Jarrod Craig\",\"Harve Stewart\",\"Caleb Sanderson\",\"Cody Johnson\",\"Ryan McConnel\"]},\"selected\":{\"id\":\"1822\"},\"selection_policy\":{\"id\":\"1838\"}},\"id\":\"1821\",\"type\":\"ColumnDataSource\"},{\"attributes\":{},\"id\":\"1836\",\"type\":\"BasicTickFormatter\"},{\"attributes\":{\"fill_alpha\":{\"value\":0.1},\"fill_color\":{\"field\":\"color\",\"transform\":{\"id\":\"1820\"}},\"hatch_alpha\":{\"value\":0.1},\"hatch_color\":{\"field\":\"color\",\"transform\":{\"id\":\"1820\"}},\"line_alpha\":{\"value\":0.1},\"line_color\":{\"field\":\"color\",\"transform\":{\"id\":\"1820\"}},\"size\":{\"value\":5.477225575051661},\"x\":{\"field\":\"Value_ScoreE\"},\"y\":{\"field\":\"Earnings\"}},\"id\":\"1825\",\"type\":\"Scatter\"},{\"attributes\":{},\"id\":\"1822\",\"type\":\"Selection\"},{\"attributes\":{\"end\":1608788.843,\"reset_end\":1608788.843,\"reset_start\":-122969.95300000001,\"start\":-122969.95300000001,\"tags\":[[[\"Earnings\",\"Earnings\",null]]]},\"id\":\"1788\",\"type\":\"Range1d\"},{\"attributes\":{\"axis\":{\"id\":\"1803\"},\"coordinates\":null,\"dimension\":1,\"grid_line_color\":null,\"group\":null,\"ticker\":null},\"id\":\"1806\",\"type\":\"Grid\"},{\"attributes\":{},\"id\":\"1837\",\"type\":\"AllLabels\"},{\"attributes\":{},\"id\":\"1833\",\"type\":\"BasicTickFormatter\"},{\"attributes\":{\"children\":[{\"id\":\"1790\"}],\"height\":300,\"margin\":[0,0,0,0],\"name\":\"Row04440\",\"sizing_mode\":\"fixed\",\"tags\":[\"embedded\"],\"width\":700},\"id\":\"1786\",\"type\":\"Row\"},{\"attributes\":{\"coordinates\":null,\"group\":null,\"items\":[{\"id\":\"1842\"}],\"location\":[0,0]},\"id\":\"1841\",\"type\":\"Legend\"},{\"attributes\":{},\"id\":\"1800\",\"type\":\"BasicTicker\"},{\"attributes\":{\"coordinates\":null,\"data_source\":{\"id\":\"1821\"},\"glyph\":{\"id\":\"1824\"},\"group\":null,\"hover_glyph\":{\"id\":\"1827\"},\"muted_glyph\":{\"id\":\"1828\"},\"nonselection_glyph\":{\"id\":\"1825\"},\"selection_glyph\":{\"id\":\"1826\"},\"view\":{\"id\":\"1830\"}},\"id\":\"1829\",\"type\":\"GlyphRenderer\"},{\"attributes\":{\"axis_label\":\"Earnings\",\"coordinates\":null,\"formatter\":{\"id\":\"1833\"},\"group\":null,\"major_label_policy\":{\"id\":\"1834\"},\"ticker\":{\"id\":\"1804\"}},\"id\":\"1803\",\"type\":\"LinearAxis\"}],\"root_ids\":[\"1786\"]},\"title\":\"Bokeh Application\",\"version\":\"2.4.3\"}};\n",
       "    var render_items = [{\"docid\":\"69efffef-d7c3-49c1-bf75-75a671308b73\",\"root_ids\":[\"1786\"],\"roots\":{\"1786\":\"1e134551-cada-41e1-bf74-101a0ef7a00c\"}}];\n",
       "    root.Bokeh.embed.embed_items_notebook(docs_json, render_items);\n",
       "    for (const render_item of render_items) {\n",
       "      for (const root_id of render_item.root_ids) {\n",
       "\tconst id_el = document.getElementById(root_id)\n",
       "\tif (id_el.children.length && (id_el.children[0].className === 'bk-root')) {\n",
       "\t  const root_el = id_el.children[0]\n",
       "\t  root_el.id = root_el.id + '-rendered'\n",
       "\t}\n",
       "      }\n",
       "    }\n",
       "  }\n",
       "  if (root.Bokeh !== undefined && root.Bokeh.Panel !== undefined && ( root['Tabulator'] !== undefined) && ( root['Tabulator'] !== undefined) && ( root['Tabulator'] !== undefined) && ( root['Tabulator'] !== undefined)) {\n",
       "    embed_document(root);\n",
       "  } else {\n",
       "    var attempts = 0;\n",
       "    var timer = setInterval(function(root) {\n",
       "      if (root.Bokeh !== undefined && root.Bokeh.Panel !== undefined && (root['Tabulator'] !== undefined) && (root['Tabulator'] !== undefined) && (root['Tabulator'] !== undefined) && (root['Tabulator'] !== undefined)) {\n",
       "        clearInterval(timer);\n",
       "        embed_document(root);\n",
       "      } else if (document.readyState == \"complete\") {\n",
       "        attempts++;\n",
       "        if (attempts > 200) {\n",
       "          clearInterval(timer);\n",
       "          console.log(\"Bokeh: ERROR: Unable to run BokehJS code because BokehJS library is missing\");\n",
       "        }\n",
       "      }\n",
       "    }, 25, root)\n",
       "  }\n",
       "})(window);</script>"
      ],
      "text/plain": [
       ":Scatter   [Value_ScoreE]   (Earnings,Rider)"
      ]
     },
     "execution_count": 57,
     "metadata": {
      "application/vnd.holoviews_exec.v0+json": {
       "id": "1786"
      }
     },
     "output_type": "execute_result"
    }
   ],
   "source": [
    "#Scatter Plot by Earnings \n",
    "statscl_df.hvplot(x= 'Value_ScoreE', \n",
    "                  y= 'Earnings', \n",
    "                  kind = 'scatter',\n",
    "                  c = 'Rider',\n",
    "                  title = 'Value Score by Earnings vs. Earnings')"
   ]
  },
  {
   "cell_type": "code",
   "execution_count": 62,
   "metadata": {},
   "outputs": [
    {
     "name": "stdout",
     "output_type": "stream",
     "text": [
      "-0.32850881012890965\n"
     ]
    }
   ],
   "source": [
    "# Calculating Coefficents \n",
    "print(statscl_df['Value_ScoreE'].corr(statscl_df['Earnings']))"
   ]
  },
  {
   "attachments": {},
   "cell_type": "markdown",
   "metadata": {},
   "source": [
    "### Low inverse correlation"
   ]
  },
  {
   "cell_type": "code",
   "execution_count": 58,
   "metadata": {},
   "outputs": [
    {
     "data": {
      "application/vnd.holoviews_exec.v0+json": "",
      "text/html": [
       "<div id='1914'>\n",
       "  <div class=\"bk-root\" id=\"1774ba27-43b1-4f4a-b097-0a99e7b0b53d\" data-root-id=\"1914\"></div>\n",
       "</div>\n",
       "<script type=\"application/javascript\">(function(root) {\n",
       "  function embed_document(root) {\n",
       "    var docs_json = {\"e2fb4733-bd48-4e80-b29d-ebab7ab26f8f\":{\"defs\":[{\"extends\":null,\"module\":null,\"name\":\"ReactiveHTML1\",\"overrides\":[],\"properties\":[]},{\"extends\":null,\"module\":null,\"name\":\"FlexBox1\",\"overrides\":[],\"properties\":[{\"default\":\"flex-start\",\"kind\":null,\"name\":\"align_content\"},{\"default\":\"flex-start\",\"kind\":null,\"name\":\"align_items\"},{\"default\":\"row\",\"kind\":null,\"name\":\"flex_direction\"},{\"default\":\"wrap\",\"kind\":null,\"name\":\"flex_wrap\"},{\"default\":\"flex-start\",\"kind\":null,\"name\":\"justify_content\"}]},{\"extends\":null,\"module\":null,\"name\":\"GridStack1\",\"overrides\":[],\"properties\":[{\"default\":\"warn\",\"kind\":null,\"name\":\"mode\"},{\"default\":null,\"kind\":null,\"name\":\"ncols\"},{\"default\":null,\"kind\":null,\"name\":\"nrows\"},{\"default\":true,\"kind\":null,\"name\":\"allow_resize\"},{\"default\":true,\"kind\":null,\"name\":\"allow_drag\"},{\"default\":[],\"kind\":null,\"name\":\"state\"}]},{\"extends\":null,\"module\":null,\"name\":\"click1\",\"overrides\":[],\"properties\":[{\"default\":\"\",\"kind\":null,\"name\":\"terminal_output\"},{\"default\":\"\",\"kind\":null,\"name\":\"debug_name\"},{\"default\":0,\"kind\":null,\"name\":\"clears\"}]},{\"extends\":null,\"module\":null,\"name\":\"NotificationAreaBase1\",\"overrides\":[],\"properties\":[{\"default\":\"bottom-right\",\"kind\":null,\"name\":\"position\"},{\"default\":0,\"kind\":null,\"name\":\"_clear\"}]},{\"extends\":null,\"module\":null,\"name\":\"NotificationArea1\",\"overrides\":[],\"properties\":[{\"default\":[],\"kind\":null,\"name\":\"notifications\"},{\"default\":\"bottom-right\",\"kind\":null,\"name\":\"position\"},{\"default\":0,\"kind\":null,\"name\":\"_clear\"},{\"default\":[{\"background\":\"#ffc107\",\"icon\":{\"className\":\"fas fa-exclamation-triangle\",\"color\":\"white\",\"tagName\":\"i\"},\"type\":\"warning\"},{\"background\":\"#007bff\",\"icon\":{\"className\":\"fas fa-info-circle\",\"color\":\"white\",\"tagName\":\"i\"},\"type\":\"info\"}],\"kind\":null,\"name\":\"types\"}]},{\"extends\":null,\"module\":null,\"name\":\"Notification\",\"overrides\":[],\"properties\":[{\"default\":null,\"kind\":null,\"name\":\"background\"},{\"default\":3000,\"kind\":null,\"name\":\"duration\"},{\"default\":null,\"kind\":null,\"name\":\"icon\"},{\"default\":\"\",\"kind\":null,\"name\":\"message\"},{\"default\":null,\"kind\":null,\"name\":\"notification_type\"},{\"default\":false,\"kind\":null,\"name\":\"_destroyed\"}]},{\"extends\":null,\"module\":null,\"name\":\"TemplateActions1\",\"overrides\":[],\"properties\":[{\"default\":0,\"kind\":null,\"name\":\"open_modal\"},{\"default\":0,\"kind\":null,\"name\":\"close_modal\"}]},{\"extends\":null,\"module\":null,\"name\":\"MaterialTemplateActions1\",\"overrides\":[],\"properties\":[{\"default\":0,\"kind\":null,\"name\":\"open_modal\"},{\"default\":0,\"kind\":null,\"name\":\"close_modal\"}]}],\"roots\":{\"references\":[{\"attributes\":{\"coordinates\":null,\"data_source\":{\"id\":\"1949\"},\"glyph\":{\"id\":\"1952\"},\"group\":null,\"hover_glyph\":{\"id\":\"1955\"},\"muted_glyph\":{\"id\":\"1956\"},\"nonselection_glyph\":{\"id\":\"1953\"},\"selection_glyph\":{\"id\":\"1954\"},\"view\":{\"id\":\"1958\"}},\"id\":\"1957\",\"type\":\"GlyphRenderer\"},{\"attributes\":{\"fill_alpha\":{\"value\":0.2},\"fill_color\":{\"field\":\"color\",\"transform\":{\"id\":\"1948\"}},\"hatch_alpha\":{\"value\":0.2},\"hatch_color\":{\"field\":\"color\",\"transform\":{\"id\":\"1948\"}},\"line_alpha\":{\"value\":0.2},\"line_color\":{\"field\":\"color\",\"transform\":{\"id\":\"1948\"}},\"size\":{\"value\":5.477225575051661},\"x\":{\"field\":\"Value_Score\"},\"y\":{\"field\":\"FinalPoints\"}},\"id\":\"1956\",\"type\":\"Scatter\"},{\"attributes\":{},\"id\":\"1961\",\"type\":\"BasicTickFormatter\"},{\"attributes\":{\"source\":{\"id\":\"1949\"}},\"id\":\"1958\",\"type\":\"CDSView\"},{\"attributes\":{},\"id\":\"1962\",\"type\":\"AllLabels\"},{\"attributes\":{\"active_drag\":{\"id\":\"1936\"},\"active_scroll\":{\"id\":\"1937\"},\"tools\":[{\"id\":\"1917\"},{\"id\":\"1935\"},{\"id\":\"1936\"},{\"id\":\"1937\"},{\"id\":\"1938\"},{\"id\":\"1939\"}]},\"id\":\"1941\",\"type\":\"Toolbar\"},{\"attributes\":{},\"id\":\"1965\",\"type\":\"AllLabels\"},{\"attributes\":{\"factors\":[\"Silvano Alves\",\"Marco Eguchi\",\"Cody Nance\",\"Shane Proctor\",\"Fabian Vieria\",\"J.B. Mauney\",\"Aaron Roy\",\"Guilherme Marchi\",\"Mike Lee\",\"Chase Outlaw\",\"Jordan Hupp\",\"Douglas Duncan\",\"Kody Lostroh\",\"Luke Snyder\",\"L.J. Jenkins\",\"Emilio Resende\",\"Ty Pozzobon\",\"Billy Ronbinson\",\"Brendon Clark\",\"Sean Willingham\",\"Brant Atwood\",\"Ben Jones\",\"Renato Nunes\",\"Stormy Wing\",\"Valdiron De Oliveira\",\"Reese Cates\",\"Robson Palermo\",\"Zack Brown\",\"Jared Farley\",\"Austin Meier\",\"Lachlan Richardson\",\"Kasey Hayes\",\"Markus Mariluch\",\"Jarrod Craig\",\"Harve Stewart\",\"Caleb Sanderson\",\"Cody Johnson\",\"Ryan McConnel\"],\"palette\":[\"#1f77b3\",\"#ff7e0e\",\"#2ba02b\",\"#d62628\",\"#9367bc\",\"#8c564b\",\"#e277c1\",\"#7e7e7e\",\"#bcbc21\",\"#16bdcf\",\"#3a0182\",\"#004201\",\"#0fffa8\",\"#5d003f\",\"#bcbcff\",\"#d8afa1\",\"#b80080\",\"#004d52\",\"#6b6400\",\"#7c0100\",\"#6026ff\",\"#ffff9a\",\"#564964\",\"#8cb893\",\"#93fbff\",\"#018267\",\"#90ff00\",\"#8200a0\",\"#ac8944\",\"#5b3400\",\"#ffbff2\",\"#ff6e75\",\"#798cff\",\"#dd00ff\",\"#505646\",\"#004489\",\"#ffbf60\",\"#ff018c\"]},\"id\":\"1948\",\"type\":\"CategoricalColorMapper\"},{\"attributes\":{},\"id\":\"1964\",\"type\":\"BasicTickFormatter\"},{\"attributes\":{\"bottom_units\":\"screen\",\"coordinates\":null,\"fill_alpha\":0.5,\"fill_color\":\"lightgrey\",\"group\":null,\"left_units\":\"screen\",\"level\":\"overlay\",\"line_alpha\":1.0,\"line_color\":\"black\",\"line_dash\":[4,4],\"line_width\":2,\"right_units\":\"screen\",\"syncable\":false,\"top_units\":\"screen\"},\"id\":\"1940\",\"type\":\"BoxAnnotation\"},{\"attributes\":{},\"id\":\"1935\",\"type\":\"SaveTool\"},{\"attributes\":{},\"id\":\"1966\",\"type\":\"UnionRenderers\"},{\"attributes\":{},\"id\":\"1936\",\"type\":\"PanTool\"},{\"attributes\":{},\"id\":\"1950\",\"type\":\"Selection\"},{\"attributes\":{},\"id\":\"1939\",\"type\":\"ResetTool\"},{\"attributes\":{},\"id\":\"1937\",\"type\":\"WheelZoomTool\"},{\"attributes\":{\"coordinates\":null,\"group\":null,\"items\":[{\"id\":\"1970\"}],\"location\":[0,0]},\"id\":\"1969\",\"type\":\"Legend\"},{\"attributes\":{\"overlay\":{\"id\":\"1940\"}},\"id\":\"1938\",\"type\":\"BoxZoomTool\"},{\"attributes\":{},\"id\":\"1928\",\"type\":\"BasicTicker\"},{\"attributes\":{\"end\":0.3504643032959558,\"reset_end\":0.3504643032959558,\"reset_start\":-0.007444193014402481,\"start\":-0.007444193014402481,\"tags\":[[[\"Value_Score\",\"Value_Score\",null]]]},\"id\":\"1915\",\"type\":\"Range1d\"},{\"attributes\":{\"fill_color\":{\"field\":\"color\",\"transform\":{\"id\":\"1948\"}},\"hatch_color\":{\"field\":\"color\",\"transform\":{\"id\":\"1948\"}},\"line_color\":{\"field\":\"color\",\"transform\":{\"id\":\"1948\"}},\"size\":{\"value\":5.477225575051661},\"x\":{\"field\":\"Value_Score\"},\"y\":{\"field\":\"FinalPoints\"}},\"id\":\"1955\",\"type\":\"Scatter\"},{\"attributes\":{\"fill_color\":{\"field\":\"color\",\"transform\":{\"id\":\"1948\"}},\"hatch_color\":{\"field\":\"color\",\"transform\":{\"id\":\"1948\"}},\"line_color\":{\"field\":\"color\",\"transform\":{\"id\":\"1948\"}},\"size\":{\"value\":5.477225575051661},\"x\":{\"field\":\"Value_Score\"},\"y\":{\"field\":\"FinalPoints\"}},\"id\":\"1952\",\"type\":\"Scatter\"},{\"attributes\":{},\"id\":\"1932\",\"type\":\"BasicTicker\"},{\"attributes\":{},\"id\":\"1923\",\"type\":\"LinearScale\"},{\"attributes\":{\"coordinates\":null,\"group\":null,\"text\":\"Value Score vs. Final Points\",\"text_color\":\"black\",\"text_font_size\":\"12pt\"},\"id\":\"1919\",\"type\":\"Title\"},{\"attributes\":{\"axis\":{\"id\":\"1927\"},\"coordinates\":null,\"grid_line_color\":null,\"group\":null,\"ticker\":null},\"id\":\"1930\",\"type\":\"Grid\"},{\"attributes\":{\"label\":{\"field\":\"color\"},\"renderers\":[{\"id\":\"1957\"}]},\"id\":\"1970\",\"type\":\"LegendItem\"},{\"attributes\":{\"below\":[{\"id\":\"1927\"}],\"center\":[{\"id\":\"1930\"},{\"id\":\"1934\"},{\"id\":\"1969\"}],\"height\":300,\"left\":[{\"id\":\"1931\"}],\"margin\":[5,5,5,5],\"min_border_bottom\":10,\"min_border_left\":10,\"min_border_right\":10,\"min_border_top\":10,\"renderers\":[{\"id\":\"1957\"}],\"right\":[{\"id\":\"1969\"}],\"sizing_mode\":\"fixed\",\"title\":{\"id\":\"1919\"},\"toolbar\":{\"id\":\"1941\"},\"width\":700,\"x_range\":{\"id\":\"1915\"},\"x_scale\":{\"id\":\"1923\"},\"y_range\":{\"id\":\"1916\"},\"y_scale\":{\"id\":\"1925\"}},\"id\":\"1918\",\"subtype\":\"Figure\",\"type\":\"Plot\"},{\"attributes\":{\"children\":[{\"id\":\"1918\"}],\"height\":300,\"margin\":[0,0,0,0],\"name\":\"Row04568\",\"sizing_mode\":\"fixed\",\"tags\":[\"embedded\"],\"width\":700},\"id\":\"1914\",\"type\":\"Row\"},{\"attributes\":{},\"id\":\"1925\",\"type\":\"LinearScale\"},{\"attributes\":{\"axis_label\":\"FinalPoints\",\"coordinates\":null,\"formatter\":{\"id\":\"1961\"},\"group\":null,\"major_label_policy\":{\"id\":\"1962\"},\"ticker\":{\"id\":\"1932\"}},\"id\":\"1931\",\"type\":\"LinearAxis\"},{\"attributes\":{\"axis_label\":\"Value_Score\",\"coordinates\":null,\"formatter\":{\"id\":\"1964\"},\"group\":null,\"major_label_policy\":{\"id\":\"1965\"},\"ticker\":{\"id\":\"1928\"}},\"id\":\"1927\",\"type\":\"LinearAxis\"},{\"attributes\":{\"data\":{\"FinalPoints\":{\"__ndarray__\":\"AAAAAADAmUAAAAAAANiBQAAAAAAAIHRAAAAAAAAAAAAAAAAAAHhlQAAAAAAA8HFAAAAAAAAAAAAAAAAAgK+jQAAAAAAAno9AAAAAAAAAAAAAAAAAAAAAAAAAAAAA0FtAAAAAAABogEAAAAAAAFKhQAAAAAAA85JAAAAAAICsqkAAAAAAAIB6QAAAAAAAAAAAAAAAAADIbUAAAAAAAAAAAAAAAAAAAAAAAAAAAAAAAAAAAAAAAMWpQAAAAAAA0FRAAAAAAAB8gUAAAAAAAAAAAAAAAABAXbBAAAAAAAAAAAAAAAAAAAAAAAAAAAAAtZtAAAAAAAAAAAAAAAAAAAAAAAAAAAAAAAAAAAAAAAAAAAAAAAAAAFBnQAAAAAAAMFlAAAAAAAAAAAAAAAAAAAAAAA==\",\"dtype\":\"float64\",\"order\":\"little\",\"shape\":[38]},\"Rider\":[\"Silvano Alves\",\"Marco Eguchi\",\"Cody Nance\",\"Shane Proctor\",\"Fabian Vieria\",\"J.B. Mauney\",\"Aaron Roy\",\"Guilherme Marchi\",\"Mike Lee\",\"Chase Outlaw\",\"Jordan Hupp\",\"Douglas Duncan\",\"Kody Lostroh\",\"Luke Snyder\",\"L.J. Jenkins\",\"Emilio Resende\",\"Ty Pozzobon\",\"Billy Ronbinson\",\"Brendon Clark\",\"Sean Willingham\",\"Brant Atwood\",\"Ben Jones\",\"Renato Nunes\",\"Stormy Wing\",\"Valdiron De Oliveira\",\"Reese Cates\",\"Robson Palermo\",\"Zack Brown\",\"Jared Farley\",\"Austin Meier\",\"Lachlan Richardson\",\"Kasey Hayes\",\"Markus Mariluch\",\"Jarrod Craig\",\"Harve Stewart\",\"Caleb Sanderson\",\"Cody Johnson\",\"Ryan McConnel\"],\"Value_Score\":{\"__ndarray__\":\"cl4W8Qmkoj8JBHVBagmxP2QhC1nIQrY/AAAAAAAA8H+ulN/YZtTKP+5rmSxygMA/AAAAAAAA8H/xQ5PmtoGTP3t2IeGXMaA/AAAAAAAA8H8AAAAAAADwf0vBcOzJtcQ/4vDae4p0pT/1X1lqj7aLP50zmpLCQ6Q/FtBbDtLKfD+pCcZb2eewPwAAAAAAAPB/Ghf6xZejpz8AAAAAAADwfwAAAAAAAPB/AAAAAAAA8H/gO6XGDfmGP2lYQdeIhtU/JkfXjezKtz8AAAAAAADwf5ITI+hxYHs/AAAAAAAA8H8AAAAAAADwf/+3fsUgJJs/AAAAAAAA8H8AAAAAAADwfwAAAAAAAPB/AAAAAAAA8H/NvgKM5IfCP4QQQgghhNA/AAAAAAAA8H8AAAAAAADwfw==\",\"dtype\":\"float64\",\"order\":\"little\",\"shape\":[38]},\"color\":[\"Silvano Alves\",\"Marco Eguchi\",\"Cody Nance\",\"Shane Proctor\",\"Fabian Vieria\",\"J.B. Mauney\",\"Aaron Roy\",\"Guilherme Marchi\",\"Mike Lee\",\"Chase Outlaw\",\"Jordan Hupp\",\"Douglas Duncan\",\"Kody Lostroh\",\"Luke Snyder\",\"L.J. Jenkins\",\"Emilio Resende\",\"Ty Pozzobon\",\"Billy Ronbinson\",\"Brendon Clark\",\"Sean Willingham\",\"Brant Atwood\",\"Ben Jones\",\"Renato Nunes\",\"Stormy Wing\",\"Valdiron De Oliveira\",\"Reese Cates\",\"Robson Palermo\",\"Zack Brown\",\"Jared Farley\",\"Austin Meier\",\"Lachlan Richardson\",\"Kasey Hayes\",\"Markus Mariluch\",\"Jarrod Craig\",\"Harve Stewart\",\"Caleb Sanderson\",\"Cody Johnson\",\"Ryan McConnel\"]},\"selected\":{\"id\":\"1950\"},\"selection_policy\":{\"id\":\"1966\"}},\"id\":\"1949\",\"type\":\"ColumnDataSource\"},{\"attributes\":{\"callback\":null,\"renderers\":[{\"id\":\"1957\"}],\"tags\":[\"hv_created\"],\"tooltips\":[[\"Value_Score\",\"@{Value_Score}\"],[\"FinalPoints\",\"@{FinalPoints}\"],[\"Rider\",\"@{Rider}\"]]},\"id\":\"1917\",\"type\":\"HoverTool\"},{\"attributes\":{\"end\":4608.175,\"reset_end\":4608.175,\"reset_start\":-418.925,\"start\":-418.925,\"tags\":[[[\"FinalPoints\",\"FinalPoints\",null]]]},\"id\":\"1916\",\"type\":\"Range1d\"},{\"attributes\":{\"axis\":{\"id\":\"1931\"},\"coordinates\":null,\"dimension\":1,\"grid_line_color\":null,\"group\":null,\"ticker\":null},\"id\":\"1934\",\"type\":\"Grid\"},{\"attributes\":{\"fill_alpha\":{\"value\":0.1},\"fill_color\":{\"field\":\"color\",\"transform\":{\"id\":\"1948\"}},\"hatch_alpha\":{\"value\":0.1},\"hatch_color\":{\"field\":\"color\",\"transform\":{\"id\":\"1948\"}},\"line_alpha\":{\"value\":0.1},\"line_color\":{\"field\":\"color\",\"transform\":{\"id\":\"1948\"}},\"size\":{\"value\":5.477225575051661},\"x\":{\"field\":\"Value_Score\"},\"y\":{\"field\":\"FinalPoints\"}},\"id\":\"1953\",\"type\":\"Scatter\"},{\"attributes\":{\"fill_color\":{\"field\":\"color\",\"transform\":{\"id\":\"1948\"}},\"hatch_color\":{\"field\":\"color\",\"transform\":{\"id\":\"1948\"}},\"line_color\":{\"field\":\"color\",\"transform\":{\"id\":\"1948\"}},\"size\":{\"value\":5.477225575051661},\"x\":{\"field\":\"Value_Score\"},\"y\":{\"field\":\"FinalPoints\"}},\"id\":\"1954\",\"type\":\"Scatter\"}],\"root_ids\":[\"1914\"]},\"title\":\"Bokeh Application\",\"version\":\"2.4.3\"}};\n",
       "    var render_items = [{\"docid\":\"e2fb4733-bd48-4e80-b29d-ebab7ab26f8f\",\"root_ids\":[\"1914\"],\"roots\":{\"1914\":\"1774ba27-43b1-4f4a-b097-0a99e7b0b53d\"}}];\n",
       "    root.Bokeh.embed.embed_items_notebook(docs_json, render_items);\n",
       "    for (const render_item of render_items) {\n",
       "      for (const root_id of render_item.root_ids) {\n",
       "\tconst id_el = document.getElementById(root_id)\n",
       "\tif (id_el.children.length && (id_el.children[0].className === 'bk-root')) {\n",
       "\t  const root_el = id_el.children[0]\n",
       "\t  root_el.id = root_el.id + '-rendered'\n",
       "\t}\n",
       "      }\n",
       "    }\n",
       "  }\n",
       "  if (root.Bokeh !== undefined && root.Bokeh.Panel !== undefined && ( root['Tabulator'] !== undefined) && ( root['Tabulator'] !== undefined) && ( root['Tabulator'] !== undefined) && ( root['Tabulator'] !== undefined)) {\n",
       "    embed_document(root);\n",
       "  } else {\n",
       "    var attempts = 0;\n",
       "    var timer = setInterval(function(root) {\n",
       "      if (root.Bokeh !== undefined && root.Bokeh.Panel !== undefined && (root['Tabulator'] !== undefined) && (root['Tabulator'] !== undefined) && (root['Tabulator'] !== undefined) && (root['Tabulator'] !== undefined)) {\n",
       "        clearInterval(timer);\n",
       "        embed_document(root);\n",
       "      } else if (document.readyState == \"complete\") {\n",
       "        attempts++;\n",
       "        if (attempts > 200) {\n",
       "          clearInterval(timer);\n",
       "          console.log(\"Bokeh: ERROR: Unable to run BokehJS code because BokehJS library is missing\");\n",
       "        }\n",
       "      }\n",
       "    }, 25, root)\n",
       "  }\n",
       "})(window);</script>"
      ],
      "text/plain": [
       ":Scatter   [Value_Score]   (FinalPoints,Rider)"
      ]
     },
     "execution_count": 58,
     "metadata": {
      "application/vnd.holoviews_exec.v0+json": {
       "id": "1914"
      }
     },
     "output_type": "execute_result"
    }
   ],
   "source": [
    "#ScatterPlot by Points\n",
    "statscl_df.hvplot(x= 'Value_Score',\n",
    "                  y= 'FinalPoints',\n",
    "                  kind = 'scatter',\n",
    "                  c = 'Rider',\n",
    "                  title = 'Value Score vs. Final Points')"
   ]
  },
  {
   "cell_type": "code",
   "execution_count": 63,
   "metadata": {},
   "outputs": [
    {
     "name": "stdout",
     "output_type": "stream",
     "text": [
      "nan\n"
     ]
    }
   ],
   "source": [
    "print(statscl_df['Value_Score'].corr(statscl_df['FinalPoints']))"
   ]
  },
  {
   "attachments": {},
   "cell_type": "markdown",
   "metadata": {},
   "source": [
    "Since NAN value using value score Earnings for correlation closely alligned to normal value score"
   ]
  },
  {
   "cell_type": "code",
   "execution_count": 65,
   "metadata": {},
   "outputs": [
    {
     "name": "stdout",
     "output_type": "stream",
     "text": [
      "-0.2944341074577815\n"
     ]
    }
   ],
   "source": [
    "print(statscl_df['Value_ScoreE'].corr(statscl_df['FinalPoints']))"
   ]
  },
  {
   "cell_type": "code",
   "execution_count": 66,
   "metadata": {},
   "outputs": [
    {
     "data": {
      "image/png": "[encoded data removed]",
      "text/plain": [
       "<Figure size 640x480 with 1 Axes>"
      ]
     },
     "metadata": {},
     "output_type": "display_data"
    }
   ],
   "source": [
    "plt.scatter(statscl_df['RidePer'], statscl_df['Top10'])\n",
    "plt.plot(np.unique(statscl_df['RidePer']), np.poly1d(np.polyfit(statscl_df['RidePer'], statscl_df['Top10'], 1))(np.unique(statscl_df['RidePer'])))\n",
    "plt.show()"
   ]
  },
  {
   "cell_type": "code",
   "execution_count": 67,
   "metadata": {},
   "outputs": [
    {
     "name": "stdout",
     "output_type": "stream",
     "text": [
      "0.8554678661816156\n"
     ]
    }
   ],
   "source": [
    "print(statscl_df['RidePer'].corr(statscl_df['Top10']))\n"
   ]
  },
  {
   "attachments": {},
   "cell_type": "markdown",
   "metadata": {},
   "source": [
    "High correlation score between RidePer vs Top10 placements"
   ]
  }
 ],
 "metadata": {
  "kernelspec": {
   "display_name": "PythonData",
   "language": "python",
   "name": "python3"
  },
  "language_info": {
   "codemirror_mode": {
    "name": "ipython",
    "version": 3
   },
   "file_extension": ".py",
   "mimetype": "text/x-python",
   "name": "python",
   "nbconvert_exporter": "python",
   "pygments_lexer": "ipython3",
   "version": "3.7.12"
  },
  "orig_nbformat": 4
 },
 "nbformat": 4,
 "nbformat_minor": 2
}
